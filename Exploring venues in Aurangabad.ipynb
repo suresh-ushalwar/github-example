{
 "cells": [
  {
   "cell_type": "markdown",
   "metadata": {},
   "source": [
    "# Capstone Project - The Battle of Neighborhoods \n",
    "## Exploring venues in Aurangabad,Maharashtra, India"
   ]
  },
  {
   "cell_type": "markdown",
   "metadata": {
    "heading_collapsed": true
   },
   "source": [
    "## Table of Contents\n",
    "\n",
    "* [Introduction/Business Problem](#introduction/Business_Problem)"
   ]
  },
  {
   "cell_type": "markdown",
   "metadata": {
    "heading_collapsed": true
   },
   "source": [
    "## Introduction/Business Problem  <a name=\"introduction/Business_Problem \"></a>\n",
    "\n",
    "The aim of the project is to identify venues in Aurangabad,Maharashtra, India based on their rating and average prices. In this notebook, we will identify various venues in the city of **Aurangabad,Maharashtra, India**, using **Foursquare API** and **Zomato API**, to help visitors select the restaurants that suit them the best.\n",
    "\n",
    "Whenever a user is visiting a city they start looking for places to visit during their stay. They primarily look for places based on the venue ratings across all venues and the average prices such that the locations fits in their budget.\n",
    "\n",
    "Here, we'll **identify places that are fit for various individuals** based on the information collected from the two APIs and Data Science. Once we have the plot with the venues, any company can launch an application using the same data and suggest users such information."
   ]
  },
  {
   "cell_type": "code",
   "execution_count": null,
   "metadata": {},
   "outputs": [],
   "source": []
  }
 ],
 "metadata": {
  "kernelspec": {
   "display_name": "Python",
   "language": "python",
   "name": "conda-env-python-py"
  },
  "language_info": {
   "codemirror_mode": {
    "name": "ipython",
    "version": 3
   },
   "file_extension": ".py",
   "mimetype": "text/x-python",
   "name": "python",
   "nbconvert_exporter": "python",
   "pygments_lexer": "ipython3",
   "version": "3.6.10"
  }
 },
 "nbformat": 4,
 "nbformat_minor": 4
}
